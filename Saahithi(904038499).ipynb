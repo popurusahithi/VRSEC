{
  "nbformat": 4,
  "nbformat_minor": 0,
  "metadata": {
    "colab": {
      "provenance": [],
      "authorship_tag": "ABX9TyPq0RI9+z7o+AeEwZIyCTvl",
      "include_colab_link": true
    },
    "kernelspec": {
      "name": "python3",
      "display_name": "Python 3"
    },
    "language_info": {
      "name": "python"
    }
  },
  "cells": [
    {
      "cell_type": "markdown",
      "metadata": {
        "id": "view-in-github",
        "colab_type": "text"
      },
      "source": [
        "<a href=\"https://colab.research.google.com/github/popurusahithi/VRSEC/blob/master/Saahithi(904038499).ipynb\" target=\"_parent\"><img src=\"https://colab.research.google.com/assets/colab-badge.svg\" alt=\"Open In Colab\"/></a>"
      ]
    },
    {
      "cell_type": "markdown",
      "source": [
        "# **Name-Sahithi Popuru**\n",
        "# **Student id-904038449**"
      ],
      "metadata": {
        "id": "4H089pMGROp9"
      }
    },
    {
      "cell_type": "code",
      "source": [
        "!git clone https://github.com/eribeiroClassroom/camera-model-popurusahithi.git"
      ],
      "metadata": {
        "colab": {
          "base_uri": "https://localhost:8080/"
        },
        "id": "z0Oq0_LLSVc0",
        "outputId": "1e5d0f15-f210-4fb0-f84c-cadeac680c93"
      },
      "execution_count": 151,
      "outputs": [
        {
          "output_type": "stream",
          "name": "stdout",
          "text": [
            "Cloning into 'camera-model-popurusahithi'...\n",
            "fatal: could not read Username for 'https://github.com': No such device or address\n"
          ]
        }
      ]
    },
    {
      "cell_type": "markdown",
      "source": [
        "# **Question 1**"
      ],
      "metadata": {
        "id": "HCO_UfuKejYs"
      }
    },
    {
      "cell_type": "code",
      "execution_count": 146,
      "metadata": {
        "colab": {
          "base_uri": "https://localhost:8080/",
          "height": 466
        },
        "id": "SR5Y0MTieibg",
        "outputId": "8a40ae1f-bfda-4100-933c-cc726364ea46"
      },
      "outputs": [
        {
          "output_type": "stream",
          "name": "stdout",
          "text": [
            "206.0\n",
            "276.0\n"
          ]
        },
        {
          "output_type": "execute_result",
          "data": {
            "text/plain": [
              "<matplotlib.legend.Legend at 0x7b36956efd60>"
            ]
          },
          "metadata": {},
          "execution_count": 146
        },
        {
          "output_type": "display_data",
          "data": {
            "text/plain": [
              "<Figure size 640x480 with 1 Axes>"
            ],
            "image/png": "[encoded data removed]"
          },
          "metadata": {}
        }
      ],
      "source": [
        "import matplotlib.pyplot as plt\n",
        "from mpl_toolkits.mplot3d import Axes3D\n",
        "import numpy as np\n",
        "\n",
        "x_focal_len = 200.0\n",
        "y_focal_len = 200.0\n",
        "x_pri_pnt = 256.0\n",
        "y_pri_pnt = 256.0\n",
        "X,Y,Z=-50,20,200\n",
        "x_axis=((x_focal_len*(X))/Z)+x_pri_pnt\n",
        "y_axis=((y_focal_len*(Y))/Z)+y_pri_pnt\n",
        "print(x_axis)\n",
        "print(y_axis)\n",
        "D_3_image = plt.figure()\n",
        "pix = D_3_image.add_subplot(111, projection='3d')\n",
        "pix.scatter(X, Y, Z, c='b', marker='s', label='Camera')\n",
        "pix.scatter(x_axis, y_axis, 200, c='r', marker='o', label='object')\n",
        "pix.plot([X,x_axis],[Y,y_axis],[200,200], c='g', label='Projection Line')\n",
        "pix.grid(False)\n",
        "pix.legend()\n"
      ]
    },
    {
      "cell_type": "markdown",
      "source": [
        "# **Question 2**"
      ],
      "metadata": {
        "id": "G88EPbju41in"
      }
    },
    {
      "cell_type": "code",
      "source": [
        "c=np.array([[0,0,200],\n",
        "           [50,0,200],\n",
        "           [50,50,200],\n",
        "           [0,50,200],\n",
        "           [0,0,250],\n",
        "           [50,0,250],\n",
        "           [50,50,250],\n",
        "           [0,50,250]])\n",
        "l1=[]\n",
        "fig,ax = plt.subplots()\n",
        "ax.scatter(X, Y, c='b', marker='s', label='Camera')\n",
        "for i in c:\n",
        "    X=i[0]\n",
        "    Y=i[1]\n",
        "    Z=i[2]\n",
        "    x_axis=((x_focal_len*(X))/Z)+x_pri_pnt\n",
        "    y_axis=((y_focal_len*(Y))/Z)+y_pri_pnt\n",
        "    print(x_axis)\n",
        "    ax.plot(x_axis, y_axis, marker='o', linestyle='-')\n",
        "    l1.append((x_axis,y_axis))\n",
        "\n",
        "print(\"list:\",l1)\n",
        "x = [point[0] for point in l1]\n",
        "y = [point[1] for point in l1]\n",
        "for i in range(4):\n",
        "        ax.plot([x[i], x[i + 4]], [y[i], y[i + 4]], linestyle='-', color='b')\n",
        "        ax.plot([x[i], x[i + 1]], [y[i], y[i + 1]], linestyle='-', color='b')\n",
        "        ax.plot([x[i+3], x[i + 4]], [y[i+3], y[i + 4]], linestyle='-', color='b')\n",
        "\n",
        "ax.plot([x[0], x[1]], [y[0], y[1]], linestyle='-', color='b')\n",
        "\n",
        "\n",
        "\n",
        ""
      ],
      "metadata": {
        "colab": {
          "base_uri": "https://localhost:8080/",
          "height": 604
        },
        "id": "EH0b0hFYevFG",
        "outputId": "b79c37af-e050-4680-f7e0-3b1aebe599d9"
      },
      "execution_count": 140,
      "outputs": [
        {
          "output_type": "stream",
          "name": "stdout",
          "text": [
            "256.0\n",
            "306.0\n",
            "306.0\n",
            "256.0\n",
            "256.0\n",
            "296.0\n",
            "296.0\n",
            "256.0\n",
            "list: [(256.0, 256.0), (306.0, 256.0), (306.0, 306.0), (256.0, 306.0), (256.0, 256.0), (296.0, 256.0), (296.0, 296.0), (256.0, 296.0)]\n"
          ]
        },
        {
          "output_type": "execute_result",
          "data": {
            "text/plain": [
              "[<matplotlib.lines.Line2D at 0x7b3694fecc70>]"
            ]
          },
          "metadata": {},
          "execution_count": 140
        },
        {
          "output_type": "display_data",
          "data": {
            "text/plain": [
              "<Figure size 640x480 with 1 Axes>"
            ],
            "image/png": "[encoded data removed]"
          },
          "metadata": {}
        }
      ]
    },
    {
      "cell_type": "markdown",
      "source": [
        "# **Question 3**"
      ],
      "metadata": {
        "id": "2yZ8wuhA4wdx"
      }
    },
    {
      "cell_type": "code",
      "source": [
        "c=np.array([[0,0,200],\n",
        "           [50,0,200],\n",
        "           [50,50,200],\n",
        "           [0,50,200],\n",
        "           [0,0,250],\n",
        "           [50,0,250],\n",
        "           [50,50,250],\n",
        "           [0,50,250]])\n",
        "angle=np.array([[np.cos(np.radians(35)),0,np.sin(np.radians(35))],\n",
        "                 [0,1,0],\n",
        "                 [-np.sin(np.radians(35)),0,np.cos(np.radians(35))]])\n",
        "transition=np.array([200,0,0])\n",
        "rotate=(angle @ c.T).T+ transition\n",
        "l1=[]\n",
        "fig,ax = plt.subplots()\n",
        "\n",
        "for i in rotate:\n",
        "    x_axis=((x_focal_len*i[0])/Z)+x_pri_pnt\n",
        "    y_axis=((y_focal_len*i[1])/Z)+y_pri_pnt\n",
        "    ax.plot(x_axis, y_axis, marker='o', linestyle='-')\n",
        "    l1.append((x_axis,y_axis))\n",
        "ax.scatter(X, Y, c='b', marker='s', label='Camera')\n",
        "print(\"list:\",np.array(l1).astype(int))\n",
        "print(rotate.astype(int))\n",
        "x = [point[0] for point in l1]\n",
        "y = [point[1] for point in l1]\n",
        "for i in range(4):\n",
        "        ax.plot([x[i], x[i + 4]], [y[i], y[i + 4]], linestyle='-', color='b')\n",
        "        ax.plot([x[i], x[i]], [y[i+1], y[i +2]], linestyle='-', color='b')\n",
        "        ax.plot([x[i+3], x[i+4]], [y[i+3], y[i + 4]], linestyle='-', color='b')\n",
        "\n",
        "\n",
        "\n",
        "\n",
        "\n",
        "\n",
        "\n",
        "\n"
      ],
      "metadata": {
        "colab": {
          "base_uri": "https://localhost:8080/",
          "height": 708
        },
        "id": "0Kf5ST0wp6eV",
        "outputId": "a1120ea5-4da8-4324-e125-b72475f99550"
      },
      "execution_count": 139,
      "outputs": [
        {
          "output_type": "stream",
          "name": "stdout",
          "text": [
            "list: [[507 256]\n",
            " [540 256]\n",
            " [540 296]\n",
            " [507 296]\n",
            " [530 256]\n",
            " [563 256]\n",
            " [563 296]\n",
            " [530 296]]\n",
            "[[314   0 163]\n",
            " [355   0 135]\n",
            " [355  50 135]\n",
            " [314  50 163]\n",
            " [343   0 204]\n",
            " [384   0 176]\n",
            " [384  50 176]\n",
            " [343  50 204]]\n"
          ]
        },
        {
          "output_type": "display_data",
          "data": {
            "text/plain": [
              "<Figure size 640x480 with 1 Axes>"
            ],
            "image/png": "[encoded data removed]"
          },
          "metadata": {}
        }
      ]
    },
    {
      "cell_type": "markdown",
      "source": [
        "# **Question 4**"
      ],
      "metadata": {
        "id": "SjVLzm3NFe4B"
      }
    },
    {
      "cell_type": "markdown",
      "source": [
        "# **Double the focal length**"
      ],
      "metadata": {
        "id": "k4ATduySGWhE"
      }
    },
    {
      "cell_type": "code",
      "source": [
        "x_focal_len = 400.0\n",
        "y_focal_len = 400.0\n",
        "c=np.array([[0,0,200],\n",
        "           [50,0,200],\n",
        "           [50,50,200],\n",
        "           [0,50,200],\n",
        "           [0,0,250],\n",
        "           [50,0,250],\n",
        "           [50,50,250],\n",
        "           [0,50,250]])\n",
        "l1=[]\n",
        "fig,ax = plt.subplots()\n",
        "ax.scatter(X, Y, c='b', marker='s', label='Camera')\n",
        "for i in c:\n",
        "    X=i[0]\n",
        "    Y=i[1]\n",
        "    Z=i[2]\n",
        "    x_axis=((x_focal_len*(X))/Z)+x_pri_pnt\n",
        "    y_axis=((y_focal_len*(Y))/Z)+y_pri_pnt\n",
        "    print(x_axis)\n",
        "    ax.plot(x_axis, y_axis, marker='o', linestyle='-')\n",
        "    l1.append((x_axis,y_axis))\n",
        "\n",
        "print(\"list:\",l1)\n",
        "x = [point[0] for point in l1]\n",
        "y = [point[1] for point in l1]\n",
        "for i in range(4):\n",
        "        ax.plot([x[i], x[i + 4]], [y[i], y[i + 4]], linestyle='-', color='b')\n",
        "        ax.plot([x[i], x[i + 1]], [y[i], y[i + 1]], linestyle='-', color='b')\n",
        "        ax.plot([x[i+3], x[i + 4]], [y[i+3], y[i + 4]], linestyle='-', color='b')\n",
        "\n",
        "ax.plot([x[0], x[1]], [y[0], y[1]], linestyle='-', color='b')\n",
        "\n",
        "\n",
        "\n",
        ""
      ],
      "metadata": {
        "colab": {
          "base_uri": "https://localhost:8080/",
          "height": 604
        },
        "id": "RiPgZsnp47K4",
        "outputId": "448696f0-fd47-45ea-cbdc-73e7c71267a4"
      },
      "execution_count": 141,
      "outputs": [
        {
          "output_type": "stream",
          "name": "stdout",
          "text": [
            "256.0\n",
            "356.0\n",
            "356.0\n",
            "256.0\n",
            "256.0\n",
            "336.0\n",
            "336.0\n",
            "256.0\n",
            "list: [(256.0, 256.0), (356.0, 256.0), (356.0, 356.0), (256.0, 356.0), (256.0, 256.0), (336.0, 256.0), (336.0, 336.0), (256.0, 336.0)]\n"
          ]
        },
        {
          "output_type": "execute_result",
          "data": {
            "text/plain": [
              "[<matplotlib.lines.Line2D at 0x7b3694ad9de0>]"
            ]
          },
          "metadata": {},
          "execution_count": 141
        },
        {
          "output_type": "display_data",
          "data": {
            "text/plain": [
              "<Figure size 640x480 with 1 Axes>"
            ],
            "image/png": "[encoded data removed]"
          },
          "metadata": {}
        }
      ]
    },
    {
      "cell_type": "markdown",
      "source": [
        "# **Half of focal length**"
      ],
      "metadata": {
        "id": "Xorsq7X7GkxI"
      }
    },
    {
      "cell_type": "code",
      "source": [
        "x_focal_len = 100.0\n",
        "y_focal_len = 100.0\n",
        "c=np.array([[0,0,200],\n",
        "           [50,0,200],\n",
        "           [50,50,200],\n",
        "           [0,50,200],\n",
        "           [0,0,250],\n",
        "           [50,0,250],\n",
        "           [50,50,250],\n",
        "           [0,50,250]])\n",
        "l1=[]\n",
        "fig,ax = plt.subplots()\n",
        "ax.scatter(X, Y, c='b', marker='s', label='Camera')\n",
        "for i in c:\n",
        "    X=i[0]\n",
        "    Y=i[1]\n",
        "    Z=i[2]\n",
        "    x_axis=((x_focal_len*(X))/Z)+x_pri_pnt\n",
        "    y_axis=((y_focal_len*(Y))/Z)+y_pri_pnt\n",
        "    print(x_axis)\n",
        "    ax.plot(x_axis, y_axis, marker='o', linestyle='-')\n",
        "    l1.append((x_axis,y_axis))\n",
        "\n",
        "print(\"list:\",l1)\n",
        "x = [point[0] for point in l1]\n",
        "y = [point[1] for point in l1]\n",
        "for i in range(4):\n",
        "        ax.plot([x[i], x[i + 4]], [y[i], y[i + 4]], linestyle='-', color='b')\n",
        "        ax.plot([x[i], x[i + 1]], [y[i], y[i + 1]], linestyle='-', color='b')\n",
        "        ax.plot([x[i+3], x[i + 4]], [y[i+3], y[i + 4]], linestyle='-', color='b')\n",
        "\n",
        "ax.plot([x[0], x[1]], [y[0], y[1]], linestyle='-', color='b')\n",
        "\n",
        "\n",
        "\n",
        ""
      ],
      "metadata": {
        "colab": {
          "base_uri": "https://localhost:8080/",
          "height": 604
        },
        "id": "ERIUMIO9GkTz",
        "outputId": "2704f8d5-3a87-49b5-a7ae-06d7cc92d4de"
      },
      "execution_count": 142,
      "outputs": [
        {
          "output_type": "stream",
          "name": "stdout",
          "text": [
            "256.0\n",
            "281.0\n",
            "281.0\n",
            "256.0\n",
            "256.0\n",
            "276.0\n",
            "276.0\n",
            "256.0\n",
            "list: [(256.0, 256.0), (281.0, 256.0), (281.0, 281.0), (256.0, 281.0), (256.0, 256.0), (276.0, 256.0), (276.0, 276.0), (256.0, 276.0)]\n"
          ]
        },
        {
          "output_type": "execute_result",
          "data": {
            "text/plain": [
              "[<matplotlib.lines.Line2D at 0x7b369458dc00>]"
            ]
          },
          "metadata": {},
          "execution_count": 142
        },
        {
          "output_type": "display_data",
          "data": {
            "text/plain": [
              "<Figure size 640x480 with 1 Axes>"
            ],
            "image/png": "[encoded data removed]"
          },
          "metadata": {}
        }
      ]
    },
    {
      "cell_type": "markdown",
      "source": [
        "# **Reduce by one fourth of focal length**"
      ],
      "metadata": {
        "id": "Du9qnovhG1zl"
      }
    },
    {
      "cell_type": "code",
      "source": [
        "x_focal_len = 50.0\n",
        "y_focal_len = 50.0\n",
        "c=np.array([[0,0,200],\n",
        "           [50,0,200],\n",
        "           [50,50,200],\n",
        "           [0,50,200],\n",
        "           [0,0,250],\n",
        "           [50,0,250],\n",
        "           [50,50,250],\n",
        "           [0,50,250]])\n",
        "l1=[]\n",
        "fig,ax = plt.subplots()\n",
        "ax.scatter(X, Y, c='b', marker='s', label='Camera')\n",
        "for i in c:\n",
        "    X=i[0]\n",
        "    Y=i[1]\n",
        "    Z=i[2]\n",
        "    x_axis=((x_focal_len*(X))/Z)+x_pri_pnt\n",
        "    y_axis=((y_focal_len*(Y))/Z)+y_pri_pnt\n",
        "    print(x_axis)\n",
        "    ax.plot(x_axis, y_axis, marker='o', linestyle='-')\n",
        "    l1.append((x_axis,y_axis))\n",
        "\n",
        "print(\"list:\",l1)\n",
        "x = [point[0] for point in l1]\n",
        "y = [point[1] for point in l1]\n",
        "for i in range(4):\n",
        "        ax.plot([x[i], x[i + 4]], [y[i], y[i + 4]], linestyle='-', color='b')\n",
        "        ax.plot([x[i], x[i + 1]], [y[i], y[i + 1]], linestyle='-', color='b')\n",
        "        ax.plot([x[i+3], x[i + 4]], [y[i+3], y[i + 4]], linestyle='-', color='b')\n",
        "\n",
        "ax.plot([x[0], x[1]], [y[0], y[1]], linestyle='-', color='b')\n",
        "\n",
        "\n",
        "\n",
        ""
      ],
      "metadata": {
        "colab": {
          "base_uri": "https://localhost:8080/",
          "height": 604
        },
        "id": "Y7Xzjh96G1ZS",
        "outputId": "5597bf58-ab90-4db1-f14f-07b9b917746d"
      },
      "execution_count": 143,
      "outputs": [
        {
          "output_type": "stream",
          "name": "stdout",
          "text": [
            "256.0\n",
            "268.5\n",
            "268.5\n",
            "256.0\n",
            "256.0\n",
            "266.0\n",
            "266.0\n",
            "256.0\n",
            "list: [(256.0, 256.0), (268.5, 256.0), (268.5, 268.5), (256.0, 268.5), (256.0, 256.0), (266.0, 256.0), (266.0, 266.0), (256.0, 266.0)]\n"
          ]
        },
        {
          "output_type": "execute_result",
          "data": {
            "text/plain": [
              "[<matplotlib.lines.Line2D at 0x7b3694bcaf50>]"
            ]
          },
          "metadata": {},
          "execution_count": 143
        },
        {
          "output_type": "display_data",
          "data": {
            "text/plain": [
              "<Figure size 640x480 with 1 Axes>"
            ],
            "image/png": "[encoded data removed]"
          },
          "metadata": {}
        }
      ]
    },
    {
      "cell_type": "markdown",
      "source": [
        "# **Double a single focal length**"
      ],
      "metadata": {
        "id": "q6RJDS8uHNNy"
      }
    },
    {
      "cell_type": "code",
      "source": [
        "x_focal_len = 400.0\n",
        "y_focal_len = 200.0\n",
        "c=np.array([[0,0,200],\n",
        "           [50,0,200],\n",
        "           [50,50,200],\n",
        "           [0,50,200],\n",
        "           [0,0,250],\n",
        "           [50,0,250],\n",
        "           [50,50,250],\n",
        "           [0,50,250]])\n",
        "l1=[]\n",
        "fig,ax = plt.subplots()\n",
        "ax.scatter(X, Y, c='b', marker='s', label='Camera')\n",
        "for i in c:\n",
        "    X=i[0]\n",
        "    Y=i[1]\n",
        "    Z=i[2]\n",
        "    x_axis=((x_focal_len*(X))/Z)+x_pri_pnt\n",
        "    y_axis=((y_focal_len*(Y))/Z)+y_pri_pnt\n",
        "    print(x_axis)\n",
        "    ax.plot(x_axis, y_axis, marker='o', linestyle='-')\n",
        "    l1.append((x_axis,y_axis))\n",
        "\n",
        "print(\"list:\",l1)\n",
        "x = [point[0] for point in l1]\n",
        "y = [point[1] for point in l1]\n",
        "for i in range(4):\n",
        "        ax.plot([x[i], x[i + 4]], [y[i], y[i + 4]], linestyle='-', color='b')\n",
        "        ax.plot([x[i], x[i + 1]], [y[i], y[i + 1]], linestyle='-', color='b')\n",
        "        ax.plot([x[i+3], x[i + 4]], [y[i+3], y[i + 4]], linestyle='-', color='b')\n",
        "\n",
        "ax.plot([x[0], x[1]], [y[0], y[1]], linestyle='-', color='b')\n",
        "\n",
        "\n",
        "\n",
        ""
      ],
      "metadata": {
        "colab": {
          "base_uri": "https://localhost:8080/",
          "height": 604
        },
        "id": "9IewBRsUHV4r",
        "outputId": "50ba70a6-9711-4de3-94a6-5d9b4bb4bd09"
      },
      "execution_count": 144,
      "outputs": [
        {
          "output_type": "stream",
          "name": "stdout",
          "text": [
            "256.0\n",
            "356.0\n",
            "356.0\n",
            "256.0\n",
            "256.0\n",
            "336.0\n",
            "336.0\n",
            "256.0\n",
            "list: [(256.0, 256.0), (356.0, 256.0), (356.0, 306.0), (256.0, 306.0), (256.0, 256.0), (336.0, 256.0), (336.0, 296.0), (256.0, 296.0)]\n"
          ]
        },
        {
          "output_type": "execute_result",
          "data": {
            "text/plain": [
              "[<matplotlib.lines.Line2D at 0x7b3694bd1d20>]"
            ]
          },
          "metadata": {},
          "execution_count": 144
        },
        {
          "output_type": "display_data",
          "data": {
            "text/plain": [
              "<Figure size 640x480 with 1 Axes>"
            ],
            "image/png": "[encoded data removed]"
          },
          "metadata": {}
        }
      ]
    },
    {
      "cell_type": "markdown",
      "source": [
        "# **One fourth of one focal length**"
      ],
      "metadata": {
        "id": "YJ6nXnmJHcWw"
      }
    },
    {
      "cell_type": "code",
      "source": [
        "x_focal_len = 200.0\n",
        "y_focal_len = 50.0\n",
        "c=np.array([[0,0,200],\n",
        "           [50,0,200],\n",
        "           [50,50,200],\n",
        "           [0,50,200],\n",
        "           [0,0,250],\n",
        "           [50,0,250],\n",
        "           [50,50,250],\n",
        "           [0,50,250]])\n",
        "l1=[]\n",
        "fig,ax = plt.subplots()\n",
        "ax.scatter(X, Y, c='b', marker='s', label='Camera')\n",
        "for i in c:\n",
        "    X=i[0]\n",
        "    Y=i[1]\n",
        "    Z=i[2]\n",
        "    x_axis=((x_focal_len*(X))/Z)+x_pri_pnt\n",
        "    y_axis=((y_focal_len*(Y))/Z)+y_pri_pnt\n",
        "    print(x_axis)\n",
        "    ax.plot(x_axis, y_axis, marker='o', linestyle='-')\n",
        "    l1.append((x_axis,y_axis))\n",
        "\n",
        "print(\"list:\",l1)\n",
        "x = [point[0] for point in l1]\n",
        "y = [point[1] for point in l1]\n",
        "for i in range(4):\n",
        "        ax.plot([x[i], x[i + 4]], [y[i], y[i + 4]], linestyle='-', color='b')\n",
        "        ax.plot([x[i], x[i + 1]], [y[i], y[i + 1]], linestyle='-', color='b')\n",
        "        ax.plot([x[i+3], x[i + 4]], [y[i+3], y[i + 4]], linestyle='-', color='b')\n",
        "\n",
        "ax.plot([x[0], x[1]], [y[0], y[1]], linestyle='-', color='b')\n",
        "\n",
        "\n",
        "\n",
        ""
      ],
      "metadata": {
        "colab": {
          "base_uri": "https://localhost:8080/",
          "height": 604
        },
        "id": "2eD-b1XuHoIu",
        "outputId": "49d70c4b-55a7-4d4f-9e98-eebe753b5299"
      },
      "execution_count": 145,
      "outputs": [
        {
          "output_type": "stream",
          "name": "stdout",
          "text": [
            "256.0\n",
            "306.0\n",
            "306.0\n",
            "256.0\n",
            "256.0\n",
            "296.0\n",
            "296.0\n",
            "256.0\n",
            "list: [(256.0, 256.0), (306.0, 256.0), (306.0, 268.5), (256.0, 268.5), (256.0, 256.0), (296.0, 256.0), (296.0, 266.0), (256.0, 266.0)]\n"
          ]
        },
        {
          "output_type": "execute_result",
          "data": {
            "text/plain": [
              "[<matplotlib.lines.Line2D at 0x7b369470aef0>]"
            ]
          },
          "metadata": {},
          "execution_count": 145
        },
        {
          "output_type": "display_data",
          "data": {
            "text/plain": [
              "<Figure size 640x480 with 1 Axes>"
            ],
            "image/png": "[encoded data removed]"
          },
          "metadata": {}
        }
      ]
    },
    {
      "cell_type": "markdown",
      "source": [
        "# **Change the coordinates of principal point**"
      ],
      "metadata": {
        "id": "z98lUWjLH2kA"
      }
    },
    {
      "cell_type": "code",
      "source": [
        "x_focal_len = 200.0\n",
        "y_focal_len = 200.0\n",
        "x_pri_pnt = 500.0\n",
        "y_pri_pnt = 500.0\n",
        "c=np.array([[0,0,200],\n",
        "           [50,0,200],\n",
        "           [50,50,200],\n",
        "           [0,50,200],\n",
        "           [0,0,250],\n",
        "           [50,0,250],\n",
        "           [50,50,250],\n",
        "           [0,50,250]])\n",
        "l1=[]\n",
        "fig,ax = plt.subplots()\n",
        "ax.scatter(X, Y, c='b', marker='s', label='Camera')\n",
        "for i in c:\n",
        "    X=i[0]\n",
        "    Y=i[1]\n",
        "    Z=i[2]\n",
        "    x_axis=((x_focal_len*(X))/Z)+x_pri_pnt\n",
        "    y_axis=((y_focal_len*(Y))/Z)+y_pri_pnt\n",
        "    print(x_axis)\n",
        "    ax.plot(x_axis, y_axis, marker='o', linestyle='-')\n",
        "    l1.append((x_axis,y_axis))\n",
        "\n",
        "print(\"list:\",l1)\n",
        "x = [point[0] for point in l1]\n",
        "y = [point[1] for point in l1]\n",
        "for i in range(4):\n",
        "        ax.plot([x[i], x[i + 4]], [y[i], y[i + 4]], linestyle='-', color='b')\n",
        "        ax.plot([x[i], x[i + 1]], [y[i], y[i + 1]], linestyle='-', color='b')\n",
        "        ax.plot([x[i+3], x[i + 4]], [y[i+3], y[i + 4]], linestyle='-', color='b')\n",
        "\n",
        "ax.plot([x[0], x[1]], [y[0], y[1]], linestyle='-', color='b')\n",
        "\n",
        "\n",
        "\n",
        ""
      ],
      "metadata": {
        "colab": {
          "base_uri": "https://localhost:8080/",
          "height": 604
        },
        "id": "EAdl551SH0rE",
        "outputId": "64d828c7-1583-43cd-b5ac-23cb7df2260e"
      },
      "execution_count": 147,
      "outputs": [
        {
          "output_type": "stream",
          "name": "stdout",
          "text": [
            "500.0\n",
            "550.0\n",
            "550.0\n",
            "500.0\n",
            "500.0\n",
            "540.0\n",
            "540.0\n",
            "500.0\n",
            "list: [(500.0, 500.0), (550.0, 500.0), (550.0, 550.0), (500.0, 550.0), (500.0, 500.0), (540.0, 500.0), (540.0, 540.0), (500.0, 540.0)]\n"
          ]
        },
        {
          "output_type": "execute_result",
          "data": {
            "text/plain": [
              "[<matplotlib.lines.Line2D at 0x7b3694b2b7c0>]"
            ]
          },
          "metadata": {},
          "execution_count": 147
        },
        {
          "output_type": "display_data",
          "data": {
            "text/plain": [
              "<Figure size 640x480 with 1 Axes>"
            ],
            "image/png": "[encoded data removed]"
          },
          "metadata": {}
        }
      ]
    },
    {
      "cell_type": "markdown",
      "source": [
        "# **Skew**"
      ],
      "metadata": {
        "id": "lYnSwY8vOfNW"
      }
    },
    {
      "cell_type": "code",
      "source": [
        "c=np.array([[0,0,200],\n",
        "           [50,0,200],\n",
        "           [50,50,200],\n",
        "           [0,50,200],\n",
        "           [0,0,250],\n",
        "           [50,0,250],\n",
        "           [50,50,250],\n",
        "           [0,50,250]])\n",
        "x_focal_len = 200.0\n",
        "y_focal_len = 200.0\n",
        "x_pri_pnt = 500.0\n",
        "y_pri_pnt = 500.0\n",
        "skew =[0,10]\n",
        "l1=[]\n",
        "l2=[]\n",
        "for i in c:\n",
        "    X=i[0]\n",
        "    Y=i[1]\n",
        "    Z=i[2]\n",
        "    for i in skew:\n",
        "        if(i==0):\n",
        "            x = ((x_focal_len * X+i*Y) / Z) + x_pri_pnt\n",
        "            y = (y_focal_len * Y / Z) + y_pri_pnt\n",
        "            l1.append((x,y))\n",
        "        if(i==10):\n",
        "            x = ((x_focal_len * X+i*Y) / Z) + x_pri_pnt\n",
        "            y = (y_focal_len * Y / Z) + y_pri_pnt\n",
        "            l2.append((x,y))\n",
        "print('list:',l1)\n",
        "ax.plot(l1)\n",
        "print('list:',l2)\n",
        "ax.plot(l2)"
      ],
      "metadata": {
        "colab": {
          "base_uri": "https://localhost:8080/"
        },
        "id": "YIn6w5TPHx9z",
        "outputId": "ac32141a-e9b3-48eb-d022-f7cf040ed9c3"
      },
      "execution_count": 149,
      "outputs": [
        {
          "output_type": "stream",
          "name": "stdout",
          "text": [
            "list: [(500.0, 500.0), (550.0, 500.0), (550.0, 550.0), (500.0, 550.0), (500.0, 500.0), (540.0, 500.0), (540.0, 540.0), (500.0, 540.0)]\n",
            "list: [(500.0, 500.0), (550.0, 500.0), (552.5, 550.0), (502.5, 550.0), (500.0, 500.0), (540.0, 500.0), (542.0, 540.0), (502.0, 540.0)]\n"
          ]
        },
        {
          "output_type": "execute_result",
          "data": {
            "text/plain": [
              "[<matplotlib.lines.Line2D at 0x7b3694aa44c0>,\n",
              " <matplotlib.lines.Line2D at 0x7b36947f9780>]"
            ]
          },
          "metadata": {},
          "execution_count": 149
        }
      ]
    },
    {
      "cell_type": "markdown",
      "source": [
        "# **Rotating the angle**"
      ],
      "metadata": {
        "id": "cLaMv8L7J-YG"
      }
    },
    {
      "cell_type": "code",
      "source": [
        "c=np.array([[0,0,200],\n",
        "           [50,0,200],\n",
        "           [50,50,200],\n",
        "           [0,50,200],\n",
        "           [0,0,250],\n",
        "           [50,0,250],\n",
        "           [50,50,250],\n",
        "           [0,50,250]])\n",
        "angle=np.array([[np.cos(np.radians(45)),0,np.sin(np.radians(45))],\n",
        "                 [0,1,0],\n",
        "                 [-np.sin(np.radians(45)),0,np.cos(np.radians(45))]])\n",
        "transition=np.array([200,0,0])\n",
        "rotate=(angle @ c.T).T+ transition\n",
        "l1=[]\n",
        "fig,ax = plt.subplots()\n",
        "\n",
        "for i in rotate:\n",
        "    x_axis=((x_focal_len*i[0])/Z)+x_pri_pnt\n",
        "    y_axis=((y_focal_len*i[1])/Z)+y_pri_pnt\n",
        "    ax.plot(x_axis, y_axis, marker='o', linestyle='-')\n",
        "    l1.append((x_axis,y_axis))\n",
        "ax.scatter(X, Y, c='b', marker='s', label='Camera')\n",
        "print(\"list:\",np.array(l1).astype(int))\n",
        "print(rotate.astype(int))\n",
        "x = [point[0] for point in l1]\n",
        "y = [point[1] for point in l1]\n",
        "for i in range(4):\n",
        "        ax.plot([x[i], x[i + 4]], [y[i], y[i + 4]], linestyle='-', color='b')\n",
        "        ax.plot([x[i], x[i]], [y[i+1], y[i +2]], linestyle='-', color='b')\n",
        "        ax.plot([x[i+3], x[i+4]], [y[i+3], y[i + 4]], linestyle='-', color='b')\n",
        "\n",
        "\n",
        "\n",
        "\n",
        "\n",
        "\n",
        "\n",
        "\n"
      ],
      "metadata": {
        "colab": {
          "base_uri": "https://localhost:8080/",
          "height": 708
        },
        "id": "cWSnAGENJ8UQ",
        "outputId": "6374478d-a0d7-47c0-e3e1-62ea26ac9436"
      },
      "execution_count": 150,
      "outputs": [
        {
          "output_type": "stream",
          "name": "stdout",
          "text": [
            "list: [[773 500]\n",
            " [801 500]\n",
            " [801 540]\n",
            " [773 540]\n",
            " [801 500]\n",
            " [829 500]\n",
            " [829 540]\n",
            " [801 540]]\n",
            "[[341   0 141]\n",
            " [376   0 106]\n",
            " [376  50 106]\n",
            " [341  50 141]\n",
            " [376   0 176]\n",
            " [412   0 141]\n",
            " [412  50 141]\n",
            " [376  50 176]]\n"
          ]
        },
        {
          "output_type": "display_data",
          "data": {
            "text/plain": [
              "<Figure size 640x480 with 1 Axes>"
            ],
            "image/png": "[encoded data removed]"
          },
          "metadata": {}
        }
      ]
    }
  ]
}